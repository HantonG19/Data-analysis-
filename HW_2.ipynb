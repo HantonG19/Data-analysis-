{
  "nbformat": 4,
  "nbformat_minor": 0,
  "metadata": {
    "colab": {
      "provenance": [],
      "include_colab_link": true
    },
    "kernelspec": {
      "name": "python3",
      "display_name": "Python 3"
    },
    "language_info": {
      "name": "python"
    }
  },
  "cells": [
    {
      "cell_type": "markdown",
      "metadata": {
        "id": "view-in-github",
        "colab_type": "text"
      },
      "source": [
        "<a href=\"https://colab.research.google.com/github/HantonG19/Data-analysis-/blob/main/HW_2.ipynb\" target=\"_parent\"><img src=\"https://colab.research.google.com/assets/colab-badge.svg\" alt=\"Open In Colab\"/></a>"
      ]
    },
    {
      "cell_type": "markdown",
      "source": [
        "Please answer the following questions individually, and feel free to discuss them with others. However, it is strictly prohibited to engage in plagiarism. Do not attempt to copy or paste solutions from your classmates. If plagiarism is detected, both parties will receive a score of 0 for this assignment.\n",
        "\n",
        "To submit your work, download the script containing all your solution code within the designated code boxes, along with the corresponding output printed below each box. Save this as an ipynb file (you can go to \"File - Download - Download .ipynb) and then submit the ipynb file through Canvas"
      ],
      "metadata": {
        "id": "9hxeKP8lqoje"
      }
    },
    {
      "cell_type": "markdown",
      "source": [
        "## 1. **Practice on the data type of String**: Write Python code to accomplish the **specified** task (30 points with 10 points each)"
      ],
      "metadata": {
        "id": "3i6acQimsLkQ"
      }
    },
    {
      "cell_type": "code",
      "execution_count": null,
      "metadata": {
        "id": "9X9VxtPJqmMA",
        "colab": {
          "base_uri": "https://localhost:8080/"
        },
        "outputId": "1fe434b0-e20b-4bdc-83e9-e81791726fab"
      },
      "outputs": [
        {
          "output_type": "stream",
          "name": "stdout",
          "text": [
            "Python_I.ipynb\n",
            "t/ols88obkPh_in\n",
            "notebooks/Python_I.ipynb\n"
          ]
        }
      ],
      "source": [
        "path=\"http://localhost:8888/notebooks/Python_I.ipynb\"\n",
        "\n",
        "# 1. retrieve the file name in the path, i.e. the part after the last \"/\"\n",
        "# put your code below and use print() to print out your output\n",
        "\n",
        "path = \"http://localhost:8888/notebooks/Python_I.ipynb\"\n",
        "file_name = path.split(\"/\")[-1]\n",
        "print(file_name)\n",
        "\n",
        "# 2. retrieve every third character in this string\n",
        "# put your code below and use print() to print out your output\n",
        "original_string = \"http://localhost:8888/notebooks/Python_I.ipynb\"\n",
        "result = original_string[2::3]\n",
        "print(result)\n",
        "\n",
        "# 3. Reverse the path string\n",
        "# put your code below and use print() to print out your output\n",
        "original_string = \"http://localhost:8888/notebooks/Python_I.ipynb\"\n",
        "path = original_string.split(\"://\")[1].split(\"/\")[1:]\n",
        "path = \"/\".join(path)\n",
        "print(path)\n",
        "\n"
      ]
    },
    {
      "cell_type": "markdown",
      "source": [
        "## 2. **Practice on the data type of List**: Write Python code to accomplish the specified task (20 points with 10 points each)"
      ],
      "metadata": {
        "id": "6nJh9e0duCSa"
      }
    },
    {
      "cell_type": "code",
      "source": [
        "list2 = ['MGT-3260', 'UTC','Data', 'Analytics']\n",
        "\n",
        "# 1:  How to extract \"3260\" from list2\n",
        "# put your code below and use print() to print out your output\n",
        "list2 = ['MGT-3260', 'UTC', 'Data', 'Analytics']\n",
        "\n",
        "extracted_number = list2[0].split('-')[1]\n",
        "\n",
        "print(extracted_number)\n",
        "\n",
        "# 2: Join the last two elements in list2 into a string with \"-\" as the separator, i.e. 'Data-Analytics'\n",
        "# put your code below and use print() to print out your output\n",
        "list2 = ['MGT-3260', 'UTC', 'Data', 'Analytics']\n",
        "\n",
        "result = '-'.join(list2[-2:])\n",
        "\n",
        "print(result)"
      ],
      "metadata": {
        "id": "bKN9HX_UuO5U",
        "colab": {
          "base_uri": "https://localhost:8080/"
        },
        "outputId": "dcccaedb-3e7c-48ad-bdcd-ea972edaf306"
      },
      "execution_count": null,
      "outputs": [
        {
          "output_type": "stream",
          "name": "stdout",
          "text": [
            "3260\n",
            "Data-Analytics\n"
          ]
        }
      ]
    },
    {
      "cell_type": "markdown",
      "source": [
        "## 3. **Practice on the data type of String**: Write Python code to accomplish the **specified** task (50 points)\n",
        "\n",
        "The following papragraph is scrawled from a webpage. Please process it step by step.\n",
        "\n",
        "\"What is business analytics?\n",
        "Business analytics (BA) is a set o&&f disciplines and technologies for solving business problems using data analysis, statistical models and other quantitative methods. It involves an iterative, methodical exploration of an organization's data, with an emphasis on statistical analysis, to drive decision-making.\n",
        "\n",
        "Data-driven companies treat their data as a business asset and actively look for ways to turn it into a competitive advantage. Suc&&cess with business analytics depends on da&&ta quality, skilled analysts who understand the technologies and the business, and a commitment to using data to gain insights that inform business decisions.\""
      ],
      "metadata": {
        "id": "I6zLyhydvVNf"
      }
    },
    {
      "cell_type": "code",
      "source": [
        "# Step 1 (10 point): create a variable to store this paragraph\n",
        "# put your code below and use print() to print out your output\n",
        "paragraph = \"What is business analytics? Business analytics (BA) is a set o&&f disciplines and technologies for solving business problems using data analysis, statistical models and other quantitative methods. It involves an iterative, methodical exploration of an organization's data, with an emphasis on statistical analysis, to drive decision-making.\\n\\nData-driven companies treat their data as a business asset and actively look for ways to turn it into a competitive advantage. Suc&&cess with business analytics depends on da&&ta quality, skilled analysts who understand the technologies and the business, and a commitment to using data to gain insights that inform business decisions.\"\n",
        "\n",
        "print(paragraph)\n",
        "\n",
        "# Step 2 (20 points): Remove the annoying \"&\" signs from the paragraph\n",
        "# put your code below and use print() to print out your output\n",
        "\n",
        "cleaned_paragraph = paragraph.replace('&&', '')\n",
        "\n",
        "print(cleaned_paragraph)\n",
        "\n",
        "# Step 3 (20 points): Write code to get the number of words in this paragraph\n",
        "# put your code below and use print() to print out your output\n",
        "# Create a variable to store the paragraph\n",
        "words = paragraph.split()\n",
        "\n",
        "num_words = len(words)\n",
        "\n",
        "print(\"Number of words in the paragraph:\", num_words)\n",
        "\n"
      ],
      "metadata": {
        "id": "wNV8eU-xvbop",
        "colab": {
          "base_uri": "https://localhost:8080/"
        },
        "outputId": "283ea896-1ca0-4b1b-9576-30c10de9c279"
      },
      "execution_count": null,
      "outputs": [
        {
          "output_type": "stream",
          "name": "stdout",
          "text": [
            "What is business analytics? Business analytics (BA) is a set o&&f disciplines and technologies for solving business problems using data analysis, statistical models and other quantitative methods. It involves an iterative, methodical exploration of an organization's data, with an emphasis on statistical analysis, to drive decision-making.\n",
            "\n",
            "Data-driven companies treat their data as a business asset and actively look for ways to turn it into a competitive advantage. Suc&&cess with business analytics depends on da&&ta quality, skilled analysts who understand the technologies and the business, and a commitment to using data to gain insights that inform business decisions.\n",
            "What is business analytics? Business analytics (BA) is a set of disciplines and technologies for solving business problems using data analysis, statistical models and other quantitative methods. It involves an iterative, methodical exploration of an organization's data, with an emphasis on statistical analysis, to drive decision-making.\n",
            "\n",
            "Data-driven companies treat their data as a business asset and actively look for ways to turn it into a competitive advantage. Success with business analytics depends on data quality, skilled analysts who understand the technologies and the business, and a commitment to using data to gain insights that inform business decisions.\n",
            "Number of words in the paragraph: 97\n"
          ]
        }
      ]
    }
  ]
}